{
 "cells": [
  {
   "cell_type": "code",
   "execution_count": 1,
   "id": "4a6d1634-f534-4e02-a75a-265e85833dec",
   "metadata": {},
   "outputs": [],
   "source": [
    "from sympy import *"
   ]
  },
  {
   "cell_type": "code",
   "execution_count": 2,
   "id": "ab08311e-3691-48f0-9f50-eae0588e46b3",
   "metadata": {},
   "outputs": [],
   "source": [
    "V0, s, t = symbols('V0 s t')\n",
    "tau = Symbol('tau', positive = True)"
   ]
  },
  {
   "cell_type": "code",
   "execution_count": 3,
   "id": "86502281-11d0-477b-9dba-47fcb68bc012",
   "metadata": {},
   "outputs": [
    {
     "data": {
      "text/latex": [
       "$\\displaystyle \\frac{1}{s \\tau + 1}$"
      ],
      "text/plain": [
       "1/(s*tau + 1)"
      ]
     },
     "execution_count": 3,
     "metadata": {},
     "output_type": "execute_result"
    }
   ],
   "source": [
    "H = 1 / (1 + s * tau)\n",
    "H"
   ]
  },
  {
   "cell_type": "code",
   "execution_count": 4,
   "id": "fdf5fdb5-4ffd-48b5-9e1b-4a5aa2b076a5",
   "metadata": {},
   "outputs": [
    {
     "data": {
      "text/latex": [
       "$\\displaystyle V_{0} \\theta\\left(t\\right)$"
      ],
      "text/plain": [
       "V0*Heaviside(t)"
      ]
     },
     "execution_count": 4,
     "metadata": {},
     "output_type": "execute_result"
    }
   ],
   "source": [
    "va = V0 * Heaviside(t)\n",
    "va"
   ]
  },
  {
   "cell_type": "code",
   "execution_count": 5,
   "id": "3dd66369-e809-436f-93f1-67955a101cb1",
   "metadata": {},
   "outputs": [
    {
     "data": {
      "text/latex": [
       "$\\displaystyle \\frac{V_{0}}{s}$"
      ],
      "text/plain": [
       "V0/s"
      ]
     },
     "execution_count": 5,
     "metadata": {},
     "output_type": "execute_result"
    }
   ],
   "source": [
    "Va = laplace_transform(va, t, s, noconds=True)\n",
    "Va"
   ]
  },
  {
   "cell_type": "code",
   "execution_count": 6,
   "id": "e274ed18-8c60-4c1b-ab1d-770f423820b5",
   "metadata": {},
   "outputs": [
    {
     "data": {
      "text/latex": [
       "$\\displaystyle \\frac{V_{0}}{s \\left(s \\tau + 1\\right)}$"
      ],
      "text/plain": [
       "V0/(s*(s*tau + 1))"
      ]
     },
     "execution_count": 6,
     "metadata": {},
     "output_type": "execute_result"
    }
   ],
   "source": [
    "V = Va * H\n",
    "V"
   ]
  },
  {
   "cell_type": "code",
   "execution_count": 7,
   "id": "a0990a17-f50a-4b55-8069-e3f325856427",
   "metadata": {},
   "outputs": [
    {
     "data": {
      "text/latex": [
       "$\\displaystyle - \\frac{V_{0} \\tau}{s \\tau + 1} + \\frac{V_{0}}{s}$"
      ],
      "text/plain": [
       "-V0*tau/(s*tau + 1) + V0/s"
      ]
     },
     "execution_count": 7,
     "metadata": {},
     "output_type": "execute_result"
    }
   ],
   "source": [
    "V.apart(s)"
   ]
  },
  {
   "cell_type": "code",
   "execution_count": 8,
   "id": "aa650236-7da7-4de2-8032-93fb121daa3b",
   "metadata": {},
   "outputs": [
    {
     "data": {
      "text/latex": [
       "$\\displaystyle V_{0} \\left(e^{\\frac{t}{\\tau}} - 1\\right) e^{- \\frac{t}{\\tau}} \\theta\\left(t\\right)$"
      ],
      "text/plain": [
       "V0*(exp(t/tau) - 1)*exp(-t/tau)*Heaviside(t)"
      ]
     },
     "execution_count": 8,
     "metadata": {},
     "output_type": "execute_result"
    }
   ],
   "source": [
    "v = inverse_laplace_transform(V, s, t)\n",
    "v"
   ]
  },
  {
   "cell_type": "code",
   "execution_count": 9,
   "id": "2e4d4c01-8db1-4ec0-9498-06586b04e2df",
   "metadata": {},
   "outputs": [
    {
     "data": {
      "text/latex": [
       "$\\displaystyle V_{0} \\left(1 - e^{- \\frac{t}{\\tau}}\\right) \\theta\\left(t\\right)$"
      ],
      "text/plain": [
       "V0*(1 - exp(-t/tau))*Heaviside(t)"
      ]
     },
     "execution_count": 9,
     "metadata": {},
     "output_type": "execute_result"
    }
   ],
   "source": [
    "v.expand().collect(V0).collect(Heaviside(t))"
   ]
  },
  {
   "cell_type": "code",
   "execution_count": 10,
   "id": "e38ffe16-70a2-4b7e-9018-a403d23761d3",
   "metadata": {},
   "outputs": [
    {
     "data": {
      "image/png": "[encoded data removed]",
      "text/plain": [
       "<Figure size 432x288 with 1 Axes>"
      ]
     },
     "metadata": {
      "needs_background": "light"
     },
     "output_type": "display_data"
    }
   ],
   "source": [
    "plt = plot(v.subs(tau, 1).subs(V0, 1), xlim = (-1,5))"
   ]
  },
  {
   "cell_type": "code",
   "execution_count": null,
   "id": "ace0b58d-ace1-4955-9fe3-4273227c817e",
   "metadata": {},
   "outputs": [],
   "source": []
  }
 ],
 "metadata": {
  "kernelspec": {
   "display_name": "Python 3 (ipykernel)",
   "language": "python",
   "name": "python3"
  },
  "language_info": {
   "codemirror_mode": {
    "name": "ipython",
    "version": 3
   },
   "file_extension": ".py",
   "mimetype": "text/x-python",
   "name": "python",
   "nbconvert_exporter": "python",
   "pygments_lexer": "ipython3",
   "version": "3.9.10"
  }
 },
 "nbformat": 4,
 "nbformat_minor": 5
}
