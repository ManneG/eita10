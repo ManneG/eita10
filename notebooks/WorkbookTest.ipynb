{
 "cells": [
  {
   "cell_type": "markdown",
   "metadata": {},
   "source": [
    "The notebook with its Python kernel is ready to do basic things like evaluating and printing an expression"
   ]
  },
  {
   "cell_type": "code",
   "execution_count": 1,
   "metadata": {},
   "outputs": [
    {
     "data": {
      "text/plain": [
       "7"
      ]
     },
     "execution_count": 1,
     "metadata": {},
     "output_type": "execute_result"
    }
   ],
   "source": [
    "2+5"
   ]
  },
  {
   "cell_type": "markdown",
   "metadata": {},
   "source": [
    "Let's define variable 'a' and assign it a complex number"
   ]
  },
  {
   "cell_type": "code",
   "execution_count": 2,
   "metadata": {},
   "outputs": [
    {
     "data": {
      "text/plain": [
       "(5+5j)"
      ]
     },
     "metadata": {},
     "output_type": "display_data"
    },
    {
     "data": {
      "text/plain": [
       "(-5-5j)"
      ]
     },
     "metadata": {},
     "output_type": "display_data"
    }
   ],
   "source": [
    "a = 5+5j\n",
    "display(a, -a)"
   ]
  },
  {
   "cell_type": "markdown",
   "metadata": {},
   "source": [
    "Complex numbers are a built-in data type in Python, but most useful functions are in the 'cmath' package\n",
    "\n",
    "Check out https://realpython.com/python-complex-numbers/ for more information"
   ]
  },
  {
   "cell_type": "code",
   "execution_count": 3,
   "metadata": {},
   "outputs": [],
   "source": [
    "from cmath import *"
   ]
  },
  {
   "cell_type": "markdown",
   "metadata": {},
   "source": [
    "The 'phase()' function computes the polar angle of a complex number in radians"
   ]
  },
  {
   "cell_type": "code",
   "execution_count": 4,
   "metadata": {},
   "outputs": [
    {
     "data": {
      "text/plain": [
       "0.7853981633974483"
      ]
     },
     "execution_count": 4,
     "metadata": {},
     "output_type": "execute_result"
    }
   ],
   "source": [
    "phase(a) "
   ]
  },
  {
   "cell_type": "markdown",
   "metadata": {},
   "source": [
    "Check that this is $45^\\circ$ counterclockwise (positive)\n",
    "\n",
    "You may double-click this markdown box to see how to simply include math typography in notebooks"
   ]
  },
  {
   "cell_type": "code",
   "execution_count": 5,
   "metadata": {},
   "outputs": [
    {
     "data": {
      "text/plain": [
       "45.0"
      ]
     },
     "execution_count": 5,
     "metadata": {},
     "output_type": "execute_result"
    }
   ],
   "source": [
    "(phase(a) / (2*pi)) * 360"
   ]
  },
  {
   "cell_type": "markdown",
   "metadata": {},
   "source": [
    "Compute the conjugate, $\\overline{a}$"
   ]
  },
  {
   "cell_type": "code",
   "execution_count": 6,
   "metadata": {},
   "outputs": [
    {
     "data": {
      "text/plain": [
       "(5-5j)"
      ]
     },
     "execution_count": 6,
     "metadata": {},
     "output_type": "execute_result"
    }
   ],
   "source": [
    "a.conjugate()"
   ]
  },
  {
   "cell_type": "markdown",
   "metadata": {},
   "source": [
    "We can easily visualize by creating plots. Matplotlib is very capable, a tutorial can be found here https://matplotlib.org/stable/tutorials/introductory/usage.html#, but it does not deal with complex numbers directly"
   ]
  },
  {
   "cell_type": "code",
   "execution_count": 7,
   "metadata": {},
   "outputs": [],
   "source": [
    "import matplotlib.pyplot as plt"
   ]
  },
  {
   "cell_type": "code",
   "execution_count": 8,
   "metadata": {},
   "outputs": [
    {
     "data": {
      "application/vnd.jupyter.widget-view+json": {
       "model_id": "9c2cfd74819748a39dbaa957f0efb3b4",
       "version_major": 2,
       "version_minor": 0
      },
      "image/png": "[encoded data removed]",
      "text/html": [
       "\n",
       "            <div style=\"display: inline-block;\">\n",
       "                <div class=\"jupyter-widgets widget-label\" style=\"text-align: center;\">\n",
       "                    Figure\n",
       "                </div>\n",
       "                <img src='data:image/png;base64,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' width=640.0/>\n",
       "            </div>\n",
       "        "
      ],
      "text/plain": [
       "Canvas(toolbar=Toolbar(toolitems=[('Home', 'Reset original view', 'home', 'home'), ('Back', 'Back to previous …"
      ]
     },
     "metadata": {},
     "output_type": "display_data"
    }
   ],
   "source": [
    "%matplotlib widget\n",
    "\n",
    "# put numbers into an array\n",
    "data = [a, a.conjugate(), -a, -a.conjugate()]\n",
    "  \n",
    "# extract real part\n",
    "x = [ele.real for ele in data]\n",
    "# extract imaginary part\n",
    "y = [ele.imag for ele in data]\n",
    "  \n",
    "# plot the complex numbers using red crosses 'rx'\n",
    "plt.plot(x, y, 'rx')\n",
    "plt.ylabel('Imaginary')\n",
    "plt.xlabel('Real')\n",
    "plt.axis([-7, 7, -6, 6])\n",
    "plt.grid(True)\n",
    "plt.text( 5.5, 5, r'$a$')\n",
    "plt.text( 5.5,-5, r'$\\overline{a}$')\n",
    "plt.text(-4.5,-5, r'$-a$')\n",
    "plt.text(-4.5, 5, r'$-\\overline{a}$')\n",
    "plt.show()\n"
   ]
  },
  {
   "cell_type": "markdown",
   "metadata": {},
   "source": [
    "Also, check that 'abs(a)' squared equals $a \\cdot \\overline{a} = 5^2 - (5j)^2 = 50$"
   ]
  },
  {
   "cell_type": "code",
   "execution_count": 9,
   "metadata": {},
   "outputs": [
    {
     "data": {
      "text/plain": [
       "50.00000000000001"
      ]
     },
     "execution_count": 9,
     "metadata": {},
     "output_type": "execute_result"
    }
   ],
   "source": [
    "abs(a) ** 2"
   ]
  },
  {
   "cell_type": "markdown",
   "metadata": {},
   "source": [
    "So far, we have done numerical math, identical to what normally happens in a computer program, and the result above highlights that there are rounding errors."
   ]
  },
  {
   "cell_type": "markdown",
   "metadata": {},
   "source": [
    "We may import the SymPy package with data types and functions to perform symbolic math, as an additional benefit it will nicely format the math results for us. A SymPy tutorial is here https://docs.sympy.org/latest/tutorial/intro.html#"
   ]
  },
  {
   "cell_type": "code",
   "execution_count": 10,
   "metadata": {},
   "outputs": [],
   "source": [
    "from sympy import *"
   ]
  },
  {
   "cell_type": "markdown",
   "metadata": {},
   "source": [
    "An easy way to enter symbolic math is to parse it from a string with a Python expression"
   ]
  },
  {
   "cell_type": "code",
   "execution_count": 11,
   "metadata": {},
   "outputs": [
    {
     "data": {
      "text/latex": [
       "$\\displaystyle t^{2}$"
      ],
      "text/plain": [
       "t**2"
      ]
     },
     "execution_count": 11,
     "metadata": {},
     "output_type": "execute_result"
    }
   ],
   "source": [
    "t2 = sympify('t**2')\n",
    "t2"
   ]
  },
  {
   "cell_type": "markdown",
   "metadata": {},
   "source": [
    "We can now manipulate the expression, e.g., to find devivatives or to integrate"
   ]
  },
  {
   "cell_type": "code",
   "execution_count": 12,
   "metadata": {},
   "outputs": [
    {
     "data": {
      "text/latex": [
       "$\\displaystyle \\frac{t^{3}}{3}$"
      ],
      "text/plain": [
       "t**3/3"
      ]
     },
     "execution_count": 12,
     "metadata": {},
     "output_type": "execute_result"
    }
   ],
   "source": [
    "integrate(t2)"
   ]
  },
  {
   "cell_type": "code",
   "execution_count": 13,
   "metadata": {},
   "outputs": [
    {
     "data": {
      "text/latex": [
       "$\\displaystyle 2 t$"
      ],
      "text/plain": [
       "2*t"
      ]
     },
     "execution_count": 13,
     "metadata": {},
     "output_type": "execute_result"
    }
   ],
   "source": [
    "t2.diff()"
   ]
  },
  {
   "cell_type": "markdown",
   "metadata": {},
   "source": [
    "Now, let's repeat the complex number exercise using symbolic math. SymPy defines all the functions we used before, but with different names. What used to be 'phase()' is now 'arg()', etc."
   ]
  },
  {
   "cell_type": "code",
   "execution_count": 14,
   "metadata": {},
   "outputs": [
    {
     "data": {
      "text/latex": [
       "$\\displaystyle 5 + 5 i$"
      ],
      "text/plain": [
       "5 + 5*I"
      ]
     },
     "execution_count": 14,
     "metadata": {},
     "output_type": "execute_result"
    }
   ],
   "source": [
    "asym = sympify('5+5j')\n",
    "asym"
   ]
  },
  {
   "cell_type": "code",
   "execution_count": 15,
   "metadata": {},
   "outputs": [
    {
     "data": {
      "text/latex": [
       "$\\displaystyle \\frac{\\pi}{4}$"
      ],
      "text/plain": [
       "pi/4"
      ]
     },
     "execution_count": 15,
     "metadata": {},
     "output_type": "execute_result"
    }
   ],
   "source": [
    "arg(asym)"
   ]
  },
  {
   "cell_type": "code",
   "execution_count": 16,
   "metadata": {},
   "outputs": [
    {
     "data": {
      "text/latex": [
       "$\\displaystyle 50.0$"
      ],
      "text/plain": [
       "50.0000000000000"
      ]
     },
     "execution_count": 16,
     "metadata": {},
     "output_type": "execute_result"
    }
   ],
   "source": [
    "Abs(a) ** 2"
   ]
  },
  {
   "cell_type": "markdown",
   "metadata": {},
   "source": [
    "In this case, results are mathematically exact"
   ]
  },
  {
   "cell_type": "markdown",
   "metadata": {},
   "source": [
    "Finally, let's try a simple numerical matrix inversion using the NumPy library"
   ]
  },
  {
   "cell_type": "code",
   "execution_count": 17,
   "metadata": {},
   "outputs": [],
   "source": [
    "import numpy as np"
   ]
  },
  {
   "cell_type": "code",
   "execution_count": 18,
   "metadata": {},
   "outputs": [
    {
     "data": {
      "text/plain": [
       "array([[ 1.5, -1. , -0.5],\n",
       "       [-1.5,  1.5,  1.5],\n",
       "       [-0. , -1. ,  1. ]])"
      ]
     },
     "execution_count": 18,
     "metadata": {},
     "output_type": "execute_result"
    }
   ],
   "source": [
    "G = np.array([[1.5, -1.0, -0.5],\n",
    "               [-1.5, 1.5, 1.5], \n",
    "               [-0.0, -1.0, 1.0]])\n",
    "G"
   ]
  },
  {
   "cell_type": "code",
   "execution_count": 19,
   "metadata": {},
   "outputs": [
    {
     "data": {
      "text/plain": [
       "array([[ 1.33333333,  0.66666667, -0.33333333],\n",
       "       [ 0.66666667,  0.66666667, -0.66666667],\n",
       "       [ 0.66666667,  0.66666667,  0.33333333]])"
      ]
     },
     "execution_count": 19,
     "metadata": {},
     "output_type": "execute_result"
    }
   ],
   "source": [
    "np.linalg.inv(G)"
   ]
  },
  {
   "cell_type": "code",
   "execution_count": null,
   "metadata": {},
   "outputs": [],
   "source": []
  }
 ],
 "metadata": {
  "interpreter": {
   "hash": "670c941c637f7644281a840e1b13ffb9824ca6ee95a6df32dface97850d840d4"
  },
  "kernelspec": {
   "display_name": "Python 3 (ipykernel)",
   "language": "python",
   "name": "python3"
  },
  "language_info": {
   "codemirror_mode": {
    "name": "ipython",
    "version": 3
   },
   "file_extension": ".py",
   "mimetype": "text/x-python",
   "name": "python",
   "nbconvert_exporter": "python",
   "pygments_lexer": "ipython3",
   "version": "3.9.10"
  },
  "metadata": {
   "interpreter": {
    "hash": "82cd2f9bf935e20431c428ae152eff12dc491af9c2cd504f6652f68871368cc4"
   }
  }
 },
 "nbformat": 4,
 "nbformat_minor": 4
}
