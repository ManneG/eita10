{
 "cells": [
  {
   "cell_type": "markdown",
   "id": "017ddac3-1f20-4b08-b307-d2a9d94da6f8",
   "metadata": {},
   "source": [
    "### Import required libraries"
   ]
  },
  {
   "cell_type": "code",
   "execution_count": null,
   "id": "1b594ca7-de92-4cb8-8222-333325f594e8",
   "metadata": {},
   "outputs": [],
   "source": [
    "import sounddevice as sd\n",
    "import soundfile as sf\n",
    "import liverecorder\n",
    "import numpy as np\n",
    "import matplotlib as mpl\n",
    "import matplotlib.pyplot as plt\n",
    "import ipywidgets as widgets\n",
    "import time\n",
    "from concurrent.futures import ThreadPoolExecutor\n",
    "import threading\n",
    "import math"
   ]
  },
  {
   "cell_type": "markdown",
   "id": "1ed49ae7-f4b6-41e3-a5e2-e4ec79f92d74",
   "metadata": {},
   "source": [
    "### Identify our USB AD-converter (microphone)"
   ]
  },
  {
   "cell_type": "code",
   "execution_count": null,
   "id": "b9d0817f-2eea-409a-b9e4-ac1a6dca68b2",
   "metadata": {},
   "outputs": [],
   "source": [
    "# Acceptable API:s in increasing order of preference\n",
    "accept_apis = ['Windows WASAPI', 'Windows WDM-KS', 'ALSA', 'Core Audio']\n",
    "all_apis = sd.query_hostapis()\n",
    "useapi = -1\n",
    "for pref in accept_apis:\n",
    "    for idx, a in enumerate(sd.query_hostapis()):\n",
    "        if a['name']==pref and len(a['devices'])>0:\n",
    "            useapi = idx\n",
    "if useapi<0:\n",
    "    print('Will use any sound API')\n",
    "else:\n",
    "    print(f'Will use preferred sound API {all_apis[useapi][\"name\"]}')"
   ]
  },
  {
   "cell_type": "code",
   "execution_count": null,
   "id": "52e4a562-ca56-46c8-bab4-86e03c4f4929",
   "metadata": {},
   "outputs": [],
   "source": [
    "in_device  = sd.default.device['input']\n",
    "in_devices = sd.query_devices()\n",
    "for idx, d in enumerate(in_devices):\n",
    "    if (useapi>=0 and d['hostapi']==useapi) and ('AudioStream' in d['name'] or 'LabDevice' in d['name']) and d['max_input_channels']>0:\n",
    "        in_device = idx\n",
    "print(f'Will use input device #{in_device} {in_devices[in_device][\"name\"]} with API {all_apis[in_devices[in_device][\"hostapi\"]][\"name\"]}')"
   ]
  },
  {
   "cell_type": "markdown",
   "id": "0bea2467-0f3d-4d2b-bef0-69798d0feeed",
   "metadata": {},
   "source": [
    "### Define basic global state\n",
    "\n",
    "We are not embarassed by this in a notebook..."
   ]
  },
  {
   "cell_type": "code",
   "execution_count": null,
   "id": "26609bd4-b394-47de-b242-55f91cbfc005",
   "metadata": {},
   "outputs": [],
   "source": [
    "# Sample rate in Hz set on ADC by a GUI widget\n",
    "samplerate     = widgets.BoundedIntText(value = 48000, min = 1000, max = 96000, step=100, description = \"Sample rate\")\n",
    "\n",
    "current_data   = np.zeros(5 * samplerate.value, dtype=np.int16)\n",
    "current_length = current_data.size\n",
    "\n",
    "def time_to_samples(t):\n",
    "    return round(t * samplerate.value)\n",
    "\n",
    "window         = widgets.BoundedFloatText(value = 1.0, min = 0.001, max = current_data.size/samplerate.value, description = \"Length\")\n",
    "offset         = widgets.BoundedFloatText(value = 0.0, min = 0.000, max = current_data.size/samplerate.value, description = \"Offset\")\n"
   ]
  },
  {
   "cell_type": "markdown",
   "id": "da342363-e3de-404a-b14d-0d11bb37a18f",
   "metadata": {},
   "source": [
    "### Define plots"
   ]
  },
  {
   "cell_type": "code",
   "execution_count": null,
   "id": "41688dcf-93e0-4ff1-ac3e-cb99548d2b21",
   "metadata": {},
   "outputs": [],
   "source": [
    "%matplotlib widget\n",
    "\n",
    "ticks_milli = mpl.ticker.FuncFormatter(lambda x, pos: '{0:g}'.format(x * 1000))\n",
    "ticks_micro = mpl.ticker.FuncFormatter(lambda x, pos: '{0:g}'.format(x * 1e6))\n",
    "\n",
    "mpl.rcParams['path.simplify_threshold'] = 1.0\n",
    "\n",
    "# Briefly turn interactive mode off to avoid making plots appear here, we will display them later\n",
    "plt.ioff()\n",
    "fig = plt.figure(figsize=(8, 8), label=\"ADC data analysis\", constrained_layout=True);\n",
    "plt.ion()\n",
    "\n",
    "baseaxs, timeaxs, freqaxs = fig.subplots(3, 1, gridspec_kw = {'height_ratios': [1, 3,3]});\n",
    "\n",
    "timetext = timeaxs.text(0.01, 0.99, 'Nothing yet...',\n",
    "                        verticalalignment='top', horizontalalignment='left',\n",
    "                        transform=timeaxs.transAxes,\n",
    "                        color='orange', fontsize=15)\n",
    "\n",
    "freqtext = freqaxs.text(0.01, 0.99, 'Nothing yet...',\n",
    "                        verticalalignment='top', horizontalalignment='left',\n",
    "                        transform=freqaxs.transAxes,\n",
    "                        color='blue', fontsize=15)\n",
    "\n",
    "baseaxs.set_ylim(-2048, 2048)\n",
    "timeaxs.set_ylim(-2048, 2048)\n",
    "freqaxs.set_ylim(-100, 10)\n",
    "\n",
    "def get_time_points(rate, window, offset):\n",
    "    return np.linspace((-window-offset)/rate, -offset/rate, window)\n",
    "\n",
    "def get_freq_points(rate, window):\n",
    "    return np.fft.rfftfreq(window, d=1./rate)\n",
    "\n",
    "def get_time_ampl(data, window, offset):\n",
    "    if offset != 0:\n",
    "        return data[-window-offset:-offset]\n",
    "    else:\n",
    "        return data[-window:]\n",
    "\n",
    "def get_freq_pwr(data, rate, window, offset):\n",
    "    return 20 * np.log10(np.abs(np.fft.rfft(get_time_ampl(data, window, offset)) / window) + 1e-9) - 60\n",
    "\n",
    "baseplt = baseaxs.plot([-1, 0], [0, 0], drawstyle = 'steps-post', color='orange')\n",
    "timeplt = timeaxs.plot([0], [0], drawstyle = 'steps-post', color='orange')\n",
    "freqplt = freqaxs.plot([0], [0], color='blue')\n",
    "\n",
    "def window_select(min_x, max_x):\n",
    "    window.value = round((max_x - min_x), 3)\n",
    "    offset.value = round(-max_x, 3)\n",
    "\n",
    "win_selector = mpl.widgets.SpanSelector(baseaxs, window_select, 'horizontal',\n",
    "                                        interactive = True, drag_from_anywhere = True, ignore_event_outside = True)\n",
    "\n",
    "\n",
    "def _update_spectrum(data, rate, window, offset):\n",
    "    freq_pwr = get_freq_pwr(data, rate, window, offset)\n",
    "    max_pwr_idx = np.argmax(freq_pwr)\n",
    "    text = f'Peak {freq_pwr[max_pwr_idx]:.1f} dBV at {freqplt[0].get_xdata()[max_pwr_idx]:.1f} Hz'\n",
    "    freqtext.set_text(text)\n",
    "    freqplt[0].set_ydata(freq_pwr)\n",
    "    fig.canvas.draw_idle()\n",
    "    \n",
    "def _update_baseeplot(data, rate):\n",
    "    amplitudes = get_time_ampl(data, min(5*rate, data.size), 0)\n",
    "    baseplt[0].set_ydata(amplitudes)\n",
    "    fig.canvas.draw_idle()\n",
    "    \n",
    "def _update_timeplot(data, window, offset):\n",
    "    amplitudes = get_time_ampl(data, window, offset)\n",
    "    max_a = np.max(amplitudes)\n",
    "    min_a = np.min(amplitudes)\n",
    "    avg_a = np.mean(amplitudes)\n",
    "    text = f'Max {max_a}, min {min_a}, avg {avg_a:.1f}'\n",
    "    timetext.set_text(text)\n",
    "    timeplt[0].set_ydata(amplitudes)\n",
    "    fig.canvas.draw_idle()\n",
    "    \n",
    "def _update_rate(data, rate, win, off):\n",
    "    fig.canvas.toolbar.home()\n",
    "    length = data.size\n",
    "    bwin = min(5*rate, length)\n",
    "    btimes = get_time_points(rate, bwin, 0)\n",
    "    baseplt[0].set_xdata(btimes)\n",
    "    baseaxs.set_xlim(btimes[0], btimes[-1])\n",
    "    win = min(win, length)\n",
    "    window.value = min(win/rate, length/rate)\n",
    "    window.max = length/rate\n",
    "    off = min(off, length - win)\n",
    "    offset.value = min(off/rate, (length - win)/rate)\n",
    "    offset.max = (length - win)/rate\n",
    "    win_selector.extents = (-window.value-offset.value, -offset.value)\n",
    "    times = get_time_points(rate, win, off)\n",
    "    timeplt[0].set_xdata(times)\n",
    "    timeaxs.set_xlim(times[0], times[-1])\n",
    "    freqs = get_freq_points(rate, win)\n",
    "    freqplt[0].set_xdata(freqs)\n",
    "    freqaxs.set_xlim(freqs[0], freqs[-1])\n",
    "    fig.canvas.toolbar.update()\n",
    "    \n",
    "def update_data(data, rate, force = False):\n",
    "    global current_data, current_length\n",
    "    win = time_to_samples(window.value)\n",
    "    off = time_to_samples(offset.value)\n",
    "    if force or data.size != current_length:\n",
    "        current_length = data.size\n",
    "        _update_rate(data, rate, win, off)\n",
    "    current_data = data\n",
    "    _update_baseeplot(data, samplerate.value)\n",
    "    _update_timeplot(data, win, off)\n",
    "    _update_spectrum(data, samplerate.value, win, off)\n",
    "    \n",
    "update_data(current_data, samplerate.value, force = True)"
   ]
  },
  {
   "cell_type": "markdown",
   "id": "2fff54d5-4b37-48db-9717-99cfe1b2d7e8",
   "metadata": {},
   "source": [
    "### Capture samples from the ADC with live display"
   ]
  },
  {
   "cell_type": "code",
   "execution_count": null,
   "id": "d1c5ea89-6db4-48aa-9610-e85ebec44e87",
   "metadata": {},
   "outputs": [],
   "source": [
    "adc_cnt = widgets.IntText(value = 0, description = \"ADC samples\", )\n",
    "    \n",
    "try:\n",
    "    pool.shutdown()\n",
    "except NameError:\n",
    "    pass\n",
    "\n",
    "pool = ThreadPoolExecutor(3)\n",
    "\n",
    "def live_update(in_device, rate):\n",
    "    \n",
    "    def _update(rate):\n",
    "        while liverecorder.running():\n",
    "            liverecorder.get_update_event().wait(1)\n",
    "            data, count = liverecorder.get_data()\n",
    "            adc_cnt.value += count\n",
    "            update_data(data, rate)\n",
    "            time.sleep(0.2)\n",
    "            \n",
    "    liverecorder.start(in_device, rate)\n",
    "    return pool.submit(_update, rate)    \n",
    "        "
   ]
  },
  {
   "cell_type": "markdown",
   "id": "ab9cdb81-9d7f-42be-9023-38ace43aeb0a",
   "metadata": {},
   "source": [
    "### Define GUI"
   ]
  },
  {
   "cell_type": "code",
   "execution_count": null,
   "id": "c73a110b-50b5-4edd-bbf0-eec1bbe737f9",
   "metadata": {
    "tags": []
   },
   "outputs": [],
   "source": [
    "def run_btn_name():\n",
    "    return \"Hold\" if liverecorder.running() else \"Capture\"\n",
    "\n",
    "run_button  = widgets.Button(description = run_btn_name())\n",
    "play_button = widgets.Button(description = \"Play data\")\n",
    "\n",
    "def toggle_capture(b):\n",
    "    if liverecorder.running():\n",
    "        liverecorder.stop()\n",
    "    else:\n",
    "        live_update(in_device, samplerate.value)\n",
    "    b.description = run_btn_name()\n",
    "    \n",
    "def toggle_live(b):\n",
    "    global is_live\n",
    "    is_live = not is_live\n",
    "    b.description = live_btn_name()\n",
    "    \n",
    "def is_playing():\n",
    "    playing = False\n",
    "    try:\n",
    "        playing = sd.get_stream().active\n",
    "    except RuntimeError:\n",
    "        pass\n",
    "    return playing\n",
    "    \n",
    "def play_data(b):\n",
    "    if is_playing():\n",
    "        sd.stop()\n",
    "    else:\n",
    "        sound = get_time_ampl(current_data, time_to_samples(window.value), time_to_samples(offset.value)).copy()\n",
    "        sd.play(16*sound, samplerate=samplerate.value, device=sd.default.device['output'])\n",
    "    \n",
    "def rate_window_change(change):\n",
    "    update_data(current_data, samplerate.value, force = True)\n",
    "    \n",
    "samplerate.observe(rate_window_change, names='value')\n",
    "window.observe(rate_window_change, names='value')\n",
    "offset.observe(rate_window_change, names='value')\n",
    "\n",
    "run_button.on_click(toggle_capture)\n",
    "play_button.on_click(play_data)\n",
    "\n",
    "widgets.VBox([widgets.HBox([samplerate, adc_cnt]),\n",
    "              widgets.HBox([run_button, play_button]),\n",
    "              widgets.HBox([window, offset]),\n",
    "              fig.canvas\n",
    "             ])"
   ]
  },
  {
   "cell_type": "code",
   "execution_count": null,
   "id": "b9f7ae97-0cd2-458c-91cd-d83d21d0143f",
   "metadata": {},
   "outputs": [],
   "source": [
    "# np.save('vissling', data)\n"
   ]
  },
  {
   "cell_type": "code",
   "execution_count": null,
   "id": "00a5fac9-820c-437e-a830-3143dc63634f",
   "metadata": {},
   "outputs": [],
   "source": [
    "#update_data(np.load('vissling.npy'), 24000, force = True)\n"
   ]
  },
  {
   "cell_type": "code",
   "execution_count": null,
   "id": "7c0c9fa1-cc3a-4c60-999f-dfff893b55ba",
   "metadata": {},
   "outputs": [],
   "source": [
    "#current_length"
   ]
  },
  {
   "cell_type": "code",
   "execution_count": null,
   "id": "d0a41f6a-96de-4a9d-865b-10c73f1f401f",
   "metadata": {},
   "outputs": [],
   "source": []
  }
 ],
 "metadata": {
  "kernelspec": {
   "display_name": "Python 3 (ipykernel)",
   "language": "python",
   "name": "python3"
  },
  "language_info": {
   "codemirror_mode": {
    "name": "ipython",
    "version": 3
   },
   "file_extension": ".py",
   "mimetype": "text/x-python",
   "name": "python",
   "nbconvert_exporter": "python",
   "pygments_lexer": "ipython3",
   "version": "3.8.10"
  }
 },
 "nbformat": 4,
 "nbformat_minor": 5
}
