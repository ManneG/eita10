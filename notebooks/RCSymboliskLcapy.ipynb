{
 "cells": [
  {
   "cell_type": "code",
   "execution_count": 1,
   "id": "6b44bc8c-0d58-422f-a981-8e00f54093c4",
   "metadata": {},
   "outputs": [],
   "source": [
    "from lcapy import *"
   ]
  },
  {
   "cell_type": "code",
   "execution_count": 2,
   "id": "a3fc3d18-0b75-4a32-bac9-d011fafed160",
   "metadata": {},
   "outputs": [],
   "source": [
    "tau = symbol('tau', real=True)\n",
    "V0 = symbol('V0', real=True)"
   ]
  },
  {
   "cell_type": "code",
   "execution_count": 3,
   "id": "87f0c0ea-3fb9-4c3f-b565-12cf5b2d6fea",
   "metadata": {},
   "outputs": [
    {
     "data": {
      "text/latex": [
       "$$\\frac{1}{s \\tau + 1}$$"
      ],
      "text/plain": [
       "   1   \n",
       "───────\n",
       "s⋅τ + 1"
      ]
     },
     "execution_count": 3,
     "metadata": {},
     "output_type": "execute_result"
    }
   ],
   "source": [
    "H = 1 / (1 + s * tau)\n",
    "H"
   ]
  },
  {
   "cell_type": "code",
   "execution_count": 4,
   "id": "367d92c1-e696-48b9-b87e-998403bd8ef0",
   "metadata": {},
   "outputs": [
    {
     "data": {
      "text/latex": [
       "$$V_{0} u\\left(t\\right)$$"
      ],
      "text/plain": [
       "V₀⋅u(t)"
      ]
     },
     "execution_count": 4,
     "metadata": {},
     "output_type": "execute_result"
    }
   ],
   "source": [
    "va = V0 * u(t)\n",
    "va"
   ]
  },
  {
   "cell_type": "code",
   "execution_count": 5,
   "id": "cecfea38-eaae-4f05-98c9-a2a5d7226463",
   "metadata": {},
   "outputs": [
    {
     "data": {
      "text/latex": [
       "$$\\frac{V_{0}}{s}$$"
      ],
      "text/plain": [
       "V₀\n",
       "──\n",
       "s "
      ]
     },
     "execution_count": 5,
     "metadata": {},
     "output_type": "execute_result"
    }
   ],
   "source": [
    "va(s)"
   ]
  },
  {
   "cell_type": "code",
   "execution_count": 6,
   "id": "c65cbf39-00eb-4b8b-a8b8-f6b80c952504",
   "metadata": {},
   "outputs": [
    {
     "data": {
      "text/latex": [
       "$$\\frac{V_{0}}{s \\left(s \\tau + 1\\right)}$$"
      ],
      "text/plain": [
       "     V₀    \n",
       "───────────\n",
       "s⋅(s⋅τ + 1)"
      ]
     },
     "execution_count": 6,
     "metadata": {},
     "output_type": "execute_result"
    }
   ],
   "source": [
    "v = va(s) * H\n",
    "v"
   ]
  },
  {
   "cell_type": "code",
   "execution_count": 7,
   "id": "f0030f10-759e-4323-aec7-228821e9c19b",
   "metadata": {},
   "outputs": [
    {
     "data": {
      "text/latex": [
       "$$V_{0} \\left(1 - e^{- \\frac{t}{\\tau}}\\right) \\;\\; \\text{for}\\: t \\geq 0$$"
      ],
      "text/plain": [
       "   ⎛     -t ⎞           \n",
       "   ⎜     ───⎟           \n",
       "   ⎜      τ ⎟           \n",
       "V₀⋅⎝1 - ℯ   ⎠  for t ≥ 0"
      ]
     },
     "execution_count": 7,
     "metadata": {},
     "output_type": "execute_result"
    }
   ],
   "source": [
    "v(t)"
   ]
  },
  {
   "cell_type": "code",
   "execution_count": 8,
   "id": "2d9f89b5-fe70-4cd0-a80e-4414e10e6df2",
   "metadata": {},
   "outputs": [
    {
     "data": {
      "image/png": "[encoded data removed]",
      "text/plain": [
       "<Figure size 432x288 with 1 Axes>"
      ]
     },
     "metadata": {
      "needs_background": "light"
     },
     "output_type": "display_data"
    }
   ],
   "source": [
    "plt = v(t).subs({'V0':1, 'tau':1}).plot((0, 5))"
   ]
  },
  {
   "cell_type": "code",
   "execution_count": null,
   "id": "7ed8f9b9-af00-4668-93b7-f52c5a8fce17",
   "metadata": {},
   "outputs": [],
   "source": []
  }
 ],
 "metadata": {
  "kernelspec": {
   "display_name": "Python 3 (ipykernel)",
   "language": "python",
   "name": "python3"
  },
  "language_info": {
   "codemirror_mode": {
    "name": "ipython",
    "version": 3
   },
   "file_extension": ".py",
   "mimetype": "text/x-python",
   "name": "python",
   "nbconvert_exporter": "python",
   "pygments_lexer": "ipython3",
   "version": "3.9.10"
  }
 },
 "nbformat": 4,
 "nbformat_minor": 5
}
