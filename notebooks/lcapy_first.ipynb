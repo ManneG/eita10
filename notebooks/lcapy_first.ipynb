{
 "cells": [
  {
   "cell_type": "code",
   "execution_count": 1,
   "metadata": {},
   "outputs": [],
   "source": [
    "from lcapy import *"
   ]
  },
  {
   "cell_type": "code",
   "execution_count": null,
   "metadata": {},
   "outputs": [],
   "source": [
    "cct = Circuit(\"\"\"\n",
    "    V1 1 0 {u(t)}; down\n",
    "    R1 1 2 4e3; right=1.5\n",
    "    C1 2 _3 1e-6; down=1.5\n",
    "    W1 0 _3; right\n",
    "\"\"\")\n",
    "cct.draw(options='european resistors')"
   ]
  },
  {
   "cell_type": "code",
   "execution_count": null,
   "metadata": {},
   "outputs": [],
   "source": [
    "cct[2].V(t).simplify()"
   ]
  },
  {
   "cell_type": "code",
   "execution_count": null,
   "metadata": {},
   "outputs": [],
   "source": [
    "%matplotlib widget\n",
    "ax = cct[2].v.plot((0, 30e-3))"
   ]
  }
 ],
 "metadata": {
  "interpreter": {
   "hash": "3c23f4aac4dd684c880016a06b528db58b0147f1f5cce91f4b3856872b367148"
  },
  "kernelspec": {
   "display_name": "Python 3.9.10 64-bit",
   "language": "python",
   "name": "python3"
  },
  "language_info": {
   "codemirror_mode": {
    "name": "ipython",
    "version": 3
   },
   "file_extension": ".py",
   "mimetype": "text/x-python",
   "name": "python",
   "nbconvert_exporter": "python",
   "pygments_lexer": "ipython3",
   "version": "3.9.10"
  },
  "orig_nbformat": 4
 },
 "nbformat": 4,
 "nbformat_minor": 2
}
