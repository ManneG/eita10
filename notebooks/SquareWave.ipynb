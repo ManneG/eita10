{
 "cells": [
  {
   "cell_type": "code",
   "execution_count": 2,
   "metadata": {},
   "outputs": [],
   "source": [
    "import numpy as np"
   ]
  },
  {
   "cell_type": "code",
   "execution_count": 3,
   "metadata": {},
   "outputs": [],
   "source": [
    "f_base =   440\n",
    "f_b    = 10000\n",
    "f_s    =  8000\n",
    "max_k  =   101"
   ]
  },
  {
   "cell_type": "code",
   "execution_count": 4,
   "metadata": {},
   "outputs": [],
   "source": [
    "k_values  = np.arange(1, max_k + 1, step=2)\n",
    "harmonics = f_base * k_values\n",
    "ampl_db   = 20 * np.log10(1.0 / k_values)\n",
    "filt_db   = 20 * np.log10(1.0/(1.0 + harmonics/f_b))"
   ]
  },
  {
   "cell_type": "code",
   "execution_count": 5,
   "metadata": {},
   "outputs": [
    {
     "name": "stdout",
     "output_type": "stream",
     "text": [
      "   1,     440, ,     440,     0.0\n",
      "   3,    1320, ,    1320,    -9.5\n",
      "   5,    2200, ,    2200,   -14.0\n",
      "   7,    3080, ,    3080,   -16.9\n",
      "   9,    3960, ,    3960,   -19.1\n",
      "  11,    4840, ,    3160,   -20.8\n",
      "  13,    5720, ,    2280,   -22.3\n",
      "  15,    6600, ,    1400,   -23.5\n",
      "  17,    7480, ,     520,   -24.6\n",
      "  19,    8360, ,     360,   -25.6\n",
      "  21,    9240, ,    1240,   -26.4\n"
     ]
    }
   ],
   "source": [
    "def mirror_f(f, f_s):\n",
    "    f_mod = f % f_s\n",
    "    if (f_mod > f_s / 2):\n",
    "        f_mod = f_s - f_mod\n",
    "    return f_mod\n",
    "\n",
    "def print_row(i, f_s):\n",
    "    print(f'{k_values[i]:4}, {harmonics[i]:7}, , {mirror_f(harmonics[i], f_s):7}, {ampl_db[i]:7.1f}')\n",
    "\n",
    "for i in range(11): #range(0, k_values.size):\n",
    "    print_row(i, f_s)"
   ]
  },
  {
   "cell_type": "code",
   "execution_count": 6,
   "metadata": {},
   "outputs": [
    {
     "name": "stdout",
     "output_type": "stream",
     "text": [
      "  61,   26840, ,    5160,   -35.7\n",
      "  63,   27720, ,    4280,   -36.0\n",
      "  65,   28600, ,    3400,   -36.3\n",
      "  67,   29480, ,    2520,   -36.5\n",
      "  69,   30360, ,    1640,   -36.8\n"
     ]
    }
   ],
   "source": [
    "for i in range(30, 35):\n",
    "    print_row(i, 4*f_s)"
   ]
  },
  {
   "cell_type": "code",
   "execution_count": null,
   "metadata": {},
   "outputs": [],
   "source": []
  }
 ],
 "metadata": {
  "interpreter": {
   "hash": "670c941c637f7644281a840e1b13ffb9824ca6ee95a6df32dface97850d840d4"
  },
  "kernelspec": {
   "display_name": "Python 3.9.7 64-bit",
   "language": "python",
   "name": "python3"
  },
  "language_info": {
   "codemirror_mode": {
    "name": "ipython",
    "version": 3
   },
   "file_extension": ".py",
   "mimetype": "text/x-python",
   "name": "python",
   "nbconvert_exporter": "python",
   "pygments_lexer": "ipython3",
   "version": "3.9.10"
  },
  "orig_nbformat": 4
 },
 "nbformat": 4,
 "nbformat_minor": 2
}
